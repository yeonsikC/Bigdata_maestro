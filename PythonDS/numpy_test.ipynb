{
  "nbformat": 4,
  "nbformat_minor": 0,
  "metadata": {
    "colab": {
      "name": "numpy-test.ipynb",
      "version": "0.3.2",
      "provenance": [],
      "collapsed_sections": []
    },
    "kernelspec": {
      "name": "python3",
      "display_name": "Python 3"
    }
  },
  "cells": [
    {
      "cell_type": "code",
      "metadata": {
        "id": "vA26EPo8Pl4m",
        "colab_type": "code",
        "colab": {}
      },
      "source": [
        "import numpy as np"
      ],
      "execution_count": 0,
      "outputs": []
    },
    {
      "cell_type": "code",
      "metadata": {
        "id": "iQHwR8tH5qRr",
        "colab_type": "code",
        "colab": {
          "base_uri": "https://localhost:8080/",
          "height": 35
        },
        "outputId": "f12f2ab7-fb9f-44c5-9e54-658cf800696c"
      },
      "source": [
        "np.array([1, 4, 2, 5, 3])"
      ],
      "execution_count": 3,
      "outputs": [
        {
          "output_type": "execute_result",
          "data": {
            "text/plain": [
              "array([1, 4, 2, 5, 3])"
            ]
          },
          "metadata": {
            "tags": []
          },
          "execution_count": 3
        }
      ]
    },
    {
      "cell_type": "code",
      "metadata": {
        "id": "D30kXM0GMgpW",
        "colab_type": "code",
        "colab": {
          "base_uri": "https://localhost:8080/",
          "height": 35
        },
        "outputId": "7e8b13f1-b439-4fbf-c988-cc5d01b120e8"
      },
      "source": [
        "np.array( [3.14, 4.2, 3])"
      ],
      "execution_count": 4,
      "outputs": [
        {
          "output_type": "execute_result",
          "data": {
            "text/plain": [
              "array([3.14, 4.2 , 3.  ])"
            ]
          },
          "metadata": {
            "tags": []
          },
          "execution_count": 4
        }
      ]
    },
    {
      "cell_type": "code",
      "metadata": {
        "id": "WEPfE8a2MikN",
        "colab_type": "code",
        "colab": {
          "base_uri": "https://localhost:8080/",
          "height": 35
        },
        "outputId": "73fa071c-adbc-4fe8-908d-5ac3fe58802a"
      },
      "source": [
        "np.array( [1, 2, 3, 4], dtype = 'float32' )"
      ],
      "execution_count": 5,
      "outputs": [
        {
          "output_type": "execute_result",
          "data": {
            "text/plain": [
              "array([1., 2., 3., 4.], dtype=float32)"
            ]
          },
          "metadata": {
            "tags": []
          },
          "execution_count": 5
        }
      ]
    },
    {
      "cell_type": "code",
      "metadata": {
        "id": "2OOY2jozMoNX",
        "colab_type": "code",
        "colab": {
          "base_uri": "https://localhost:8080/",
          "height": 72
        },
        "outputId": "1d1d4ed7-8a18-4dec-8ccf-af0c976b6249"
      },
      "source": [
        "np.array([range(i, i+3) for i in[2, 4, 6]])"
      ],
      "execution_count": 6,
      "outputs": [
        {
          "output_type": "execute_result",
          "data": {
            "text/plain": [
              "array([[2, 3, 4],\n",
              "       [4, 5, 6],\n",
              "       [6, 7, 8]])"
            ]
          },
          "metadata": {
            "tags": []
          },
          "execution_count": 6
        }
      ]
    },
    {
      "cell_type": "code",
      "metadata": {
        "id": "WUFJVxW0Mt5E",
        "colab_type": "code",
        "colab": {
          "base_uri": "https://localhost:8080/",
          "height": 35
        },
        "outputId": "a6e5825f-af61-4089-84f1-c32a57d9cb9a"
      },
      "source": [
        "np.zeros(10, dtype = int)"
      ],
      "execution_count": 12,
      "outputs": [
        {
          "output_type": "execute_result",
          "data": {
            "text/plain": [
              "array([0, 0, 0, 0, 0, 0, 0, 0, 0, 0])"
            ]
          },
          "metadata": {
            "tags": []
          },
          "execution_count": 12
        }
      ]
    },
    {
      "cell_type": "code",
      "metadata": {
        "id": "Byty7fqKOkTp",
        "colab_type": "code",
        "colab": {
          "base_uri": "https://localhost:8080/",
          "height": 72
        },
        "outputId": "a34db0bd-4ec1-4fca-f283-de746643fe00"
      },
      "source": [
        "np.ones((3, 5), dtype = float)"
      ],
      "execution_count": 13,
      "outputs": [
        {
          "output_type": "execute_result",
          "data": {
            "text/plain": [
              "array([[1., 1., 1., 1., 1.],\n",
              "       [1., 1., 1., 1., 1.],\n",
              "       [1., 1., 1., 1., 1.]])"
            ]
          },
          "metadata": {
            "tags": []
          },
          "execution_count": 13
        }
      ]
    },
    {
      "cell_type": "code",
      "metadata": {
        "id": "6Du2gTxEOm-w",
        "colab_type": "code",
        "colab": {
          "base_uri": "https://localhost:8080/",
          "height": 72
        },
        "outputId": "3f5e3279-a8a7-4506-9ace-66d5d8df3c72"
      },
      "source": [
        "np.full( (3,5), 3.14)"
      ],
      "execution_count": 15,
      "outputs": [
        {
          "output_type": "execute_result",
          "data": {
            "text/plain": [
              "array([[3.14, 3.14, 3.14, 3.14, 3.14],\n",
              "       [3.14, 3.14, 3.14, 3.14, 3.14],\n",
              "       [3.14, 3.14, 3.14, 3.14, 3.14]])"
            ]
          },
          "metadata": {
            "tags": []
          },
          "execution_count": 15
        }
      ]
    },
    {
      "cell_type": "code",
      "metadata": {
        "id": "68lBRy0QPQu-",
        "colab_type": "code",
        "colab": {
          "base_uri": "https://localhost:8080/",
          "height": 35
        },
        "outputId": "75adbdc3-424c-44b4-9d36-593c835e95bd"
      },
      "source": [
        "np.arange(0, 20, 2)"
      ],
      "execution_count": 16,
      "outputs": [
        {
          "output_type": "execute_result",
          "data": {
            "text/plain": [
              "array([ 0,  2,  4,  6,  8, 10, 12, 14, 16, 18])"
            ]
          },
          "metadata": {
            "tags": []
          },
          "execution_count": 16
        }
      ]
    },
    {
      "cell_type": "code",
      "metadata": {
        "id": "T86GQ5n5PSOF",
        "colab_type": "code",
        "colab": {
          "base_uri": "https://localhost:8080/",
          "height": 35
        },
        "outputId": "afe7373e-492d-41cd-c844-92007eef5cdc"
      },
      "source": [
        "np.linspace(0, 1, 5)"
      ],
      "execution_count": 17,
      "outputs": [
        {
          "output_type": "execute_result",
          "data": {
            "text/plain": [
              "array([0.  , 0.25, 0.5 , 0.75, 1.  ])"
            ]
          },
          "metadata": {
            "tags": []
          },
          "execution_count": 17
        }
      ]
    },
    {
      "cell_type": "code",
      "metadata": {
        "id": "pUOJvfbnPTvL",
        "colab_type": "code",
        "colab": {
          "base_uri": "https://localhost:8080/",
          "height": 72
        },
        "outputId": "4bfe247e-917a-464e-f864-af865fd42613"
      },
      "source": [
        "np.random.random( (3, 4) )"
      ],
      "execution_count": 19,
      "outputs": [
        {
          "output_type": "execute_result",
          "data": {
            "text/plain": [
              "array([[0.23011874, 0.93326169, 0.87915711, 0.06965018],\n",
              "       [0.86548193, 0.20655464, 0.52615227, 0.54181029],\n",
              "       [0.51770876, 0.57545374, 0.60259543, 0.27079903]])"
            ]
          },
          "metadata": {
            "tags": []
          },
          "execution_count": 19
        }
      ]
    },
    {
      "cell_type": "code",
      "metadata": {
        "id": "cKbY84TpPWlj",
        "colab_type": "code",
        "colab": {}
      },
      "source": [
        "arr_test = np.arange( 1000000 )"
      ],
      "execution_count": 0,
      "outputs": []
    },
    {
      "cell_type": "code",
      "metadata": {
        "id": "4j1-yUyRXbaw",
        "colab_type": "code",
        "colab": {}
      },
      "source": [
        "arr_test_p = list(range(1000000))"
      ],
      "execution_count": 0,
      "outputs": []
    },
    {
      "cell_type": "code",
      "metadata": {
        "id": "vh7muHbvXcKb",
        "colab_type": "code",
        "colab": {
          "base_uri": "https://localhost:8080/",
          "height": 54
        },
        "outputId": "97c597a0-c933-40d3-f3ae-83890270ec20"
      },
      "source": [
        "%time for _ in range(10): arr_result = arr_test * 2"
      ],
      "execution_count": 22,
      "outputs": [
        {
          "output_type": "stream",
          "text": [
            "CPU times: user 19.1 ms, sys: 15.2 ms, total: 34.3 ms\n",
            "Wall time: 34.6 ms\n"
          ],
          "name": "stdout"
        }
      ]
    },
    {
      "cell_type": "code",
      "metadata": {
        "id": "4Wb0DfDaXhUy",
        "colab_type": "code",
        "colab": {
          "base_uri": "https://localhost:8080/",
          "height": 54
        },
        "outputId": "d17e377f-c7d7-48d4-8336-090282e1e3f4"
      },
      "source": [
        "%time for _ in range(10): arr_result_p = [x*2 for x in arr_test_p]"
      ],
      "execution_count": 23,
      "outputs": [
        {
          "output_type": "stream",
          "text": [
            "CPU times: user 863 ms, sys: 242 ms, total: 1.1 s\n",
            "Wall time: 1.11 s\n"
          ],
          "name": "stdout"
        }
      ]
    },
    {
      "cell_type": "code",
      "metadata": {
        "id": "prOh98whZvFx",
        "colab_type": "code",
        "colab": {
          "base_uri": "https://localhost:8080/",
          "height": 72
        },
        "outputId": "55329f72-ff00-4f85-93ea-33cf34531303"
      },
      "source": [
        "np.random.normal(0, 1, (3, 3))"
      ],
      "execution_count": 24,
      "outputs": [
        {
          "output_type": "execute_result",
          "data": {
            "text/plain": [
              "array([[-0.63475218,  1.66272004, -1.43447786],\n",
              "       [-0.60808414, -1.27412269, -0.64679817],\n",
              "       [-0.53809676, -0.6495094 ,  1.02099872]])"
            ]
          },
          "metadata": {
            "tags": []
          },
          "execution_count": 24
        }
      ]
    },
    {
      "cell_type": "code",
      "metadata": {
        "id": "t88yNuXJZysz",
        "colab_type": "code",
        "colab": {
          "base_uri": "https://localhost:8080/",
          "height": 72
        },
        "outputId": "5e7b1206-7d4d-45dd-85de-18594fa8ae99"
      },
      "source": [
        "np.random.randint(0, 10, (3, 3))"
      ],
      "execution_count": 25,
      "outputs": [
        {
          "output_type": "execute_result",
          "data": {
            "text/plain": [
              "array([[2, 2, 5],\n",
              "       [0, 5, 0],\n",
              "       [6, 0, 6]])"
            ]
          },
          "metadata": {
            "tags": []
          },
          "execution_count": 25
        }
      ]
    },
    {
      "cell_type": "code",
      "metadata": {
        "id": "E9JiTyYNZ2Kh",
        "colab_type": "code",
        "colab": {
          "base_uri": "https://localhost:8080/",
          "height": 72
        },
        "outputId": "e8d99619-d388-459b-c6a9-928f96d881c7"
      },
      "source": [
        "np.eye( 3 ) #단위행렬"
      ],
      "execution_count": 26,
      "outputs": [
        {
          "output_type": "execute_result",
          "data": {
            "text/plain": [
              "array([[1., 0., 0.],\n",
              "       [0., 1., 0.],\n",
              "       [0., 0., 1.]])"
            ]
          },
          "metadata": {
            "tags": []
          },
          "execution_count": 26
        }
      ]
    },
    {
      "cell_type": "code",
      "metadata": {
        "id": "KceoNm1dZ3Xd",
        "colab_type": "code",
        "colab": {
          "base_uri": "https://localhost:8080/",
          "height": 35
        },
        "outputId": "ad3a26a0-e8e8-4588-b93d-f1d497e98927"
      },
      "source": [
        "np.empty(3)"
      ],
      "execution_count": 27,
      "outputs": [
        {
          "output_type": "execute_result",
          "data": {
            "text/plain": [
              "array([1., 1., 1.])"
            ]
          },
          "metadata": {
            "tags": []
          },
          "execution_count": 27
        }
      ]
    },
    {
      "cell_type": "code",
      "metadata": {
        "id": "x4cRy0Czaik-",
        "colab_type": "code",
        "colab": {
          "base_uri": "https://localhost:8080/",
          "height": 35
        },
        "outputId": "a4c3c911-866a-424c-95a2-14406c7cbec9"
      },
      "source": [
        "np.array([1.09431908491048910141341414, 7.5, 5.4, 10.1], dtype = np.int64)"
      ],
      "execution_count": 28,
      "outputs": [
        {
          "output_type": "execute_result",
          "data": {
            "text/plain": [
              "array([ 1,  7,  5, 10])"
            ]
          },
          "metadata": {
            "tags": []
          },
          "execution_count": 28
        }
      ]
    },
    {
      "cell_type": "code",
      "metadata": {
        "id": "FFVDUBFbgCP9",
        "colab_type": "code",
        "colab": {}
      },
      "source": [
        "np.random.seed(0)"
      ],
      "execution_count": 0,
      "outputs": []
    },
    {
      "cell_type": "code",
      "metadata": {
        "id": "HTFJtHvrmfQX",
        "colab_type": "code",
        "colab": {}
      },
      "source": [
        "x1 = np.random.randint( 10, size = 6 )\n",
        "x2 = np.random.randint( 10, size = (3, 4) )\n",
        "x3 = np.random.randint( 10, size = (3, 4, 5), dtype = np.int64 )"
      ],
      "execution_count": 0,
      "outputs": []
    },
    {
      "cell_type": "code",
      "metadata": {
        "id": "irKZXKuRmmJ7",
        "colab_type": "code",
        "colab": {
          "base_uri": "https://localhost:8080/",
          "height": 126
        },
        "outputId": "6578e2c6-2f49-4792-f502-977ab169ec0c"
      },
      "source": [
        "print( 'x1 ndim : {0}'.format( x1.ndim) )\n",
        "print( 'x1 shape : {0}'.format( x1.shape))\n",
        "print( 'x1 size : {0}'.format( x1.size))\n",
        "print( 'x1 dtype : {0}'.format( x1.dtype))\n",
        "print( 'x1 itemsize : {0}'.format( x1.itemsize))\n",
        "print( 'x1 nbytes : {0}'.format( x1.nbytes))"
      ],
      "execution_count": 31,
      "outputs": [
        {
          "output_type": "stream",
          "text": [
            "x1 ndim : 1\n",
            "x1 shape : (6,)\n",
            "x1 size : 6\n",
            "x1 dtype : int64\n",
            "x1 itemsize : 8\n",
            "x1 nbytes : 48\n"
          ],
          "name": "stdout"
        }
      ]
    },
    {
      "cell_type": "code",
      "metadata": {
        "id": "nLHYnJ3Tm0uZ",
        "colab_type": "code",
        "colab": {
          "base_uri": "https://localhost:8080/",
          "height": 126
        },
        "outputId": "b05345bc-e7bf-4021-aa41-5a2d26462d68"
      },
      "source": [
        "print( 'x2 ndim : {0}'.format( x2.ndim) )\n",
        "print( 'x2 shape : {0}'.format( x2.shape))\n",
        "print( 'x2 size : {0}'.format( x2.size))\n",
        "print( 'x2 dtype : {0}'.format( x2.dtype))\n",
        "print( 'x2 itemsize : {0}'.format( x2.itemsize))\n",
        "print( 'x2 nbytes : {0}'.format( x2.nbytes))"
      ],
      "execution_count": 33,
      "outputs": [
        {
          "output_type": "stream",
          "text": [
            "x2 ndim : 2\n",
            "x2 shape : (3, 4)\n",
            "x2 size : 12\n",
            "x2 dtype : int64\n",
            "x2 itemsize : 8\n",
            "x2 nbytes : 96\n"
          ],
          "name": "stdout"
        }
      ]
    },
    {
      "cell_type": "code",
      "metadata": {
        "id": "7YtTkTMKnmrj",
        "colab_type": "code",
        "colab": {
          "base_uri": "https://localhost:8080/",
          "height": 126
        },
        "outputId": "80d62078-9dae-444f-adee-0dcb83299ca3"
      },
      "source": [
        "print( 'x3 ndim : {0}'.format( x3.ndim) )        # 차원\n",
        "print( 'x3 shape : {0}'.format( x3.shape))       # 3 * 4 * 5\n",
        "print( 'x3 size : {0}'.format( x3.size))         # 데이터 크기\n",
        "print( 'x3 dtype : {0}'.format( x3.dtype))       # 타입\n",
        "print( 'x3 itemsize : {0}'.format( x3.itemsize)) # 배열 요소의 데이터 크기 4bytes\n",
        "print( 'x3 nbytes : {0}'.format( x3.nbytes))     # size * itemsize"
      ],
      "execution_count": 38,
      "outputs": [
        {
          "output_type": "stream",
          "text": [
            "x3 ndim : 3\n",
            "x3 shape : (3, 4, 5)\n",
            "x3 size : 60\n",
            "x3 dtype : int64\n",
            "x3 itemsize : 8\n",
            "x3 nbytes : 480\n"
          ],
          "name": "stdout"
        }
      ]
    },
    {
      "cell_type": "code",
      "metadata": {
        "id": "ps_fkpW4nrxq",
        "colab_type": "code",
        "colab": {}
      },
      "source": [
        "x = np.array([8, 5, 3, 0])"
      ],
      "execution_count": 0,
      "outputs": []
    },
    {
      "cell_type": "code",
      "metadata": {
        "id": "IL59cQm9vNqn",
        "colab_type": "code",
        "colab": {}
      },
      "source": [
        "x2_copy = x1.copy()"
      ],
      "execution_count": 0,
      "outputs": []
    },
    {
      "cell_type": "code",
      "metadata": {
        "id": "b8nnaIsUvSVi",
        "colab_type": "code",
        "colab": {
          "base_uri": "https://localhost:8080/",
          "height": 35
        },
        "outputId": "e85ce8c8-25b2-4f21-a7da-74e59fb4c365"
      },
      "source": [
        "x2_copy.dtype"
      ],
      "execution_count": 43,
      "outputs": [
        {
          "output_type": "execute_result",
          "data": {
            "text/plain": [
              "dtype('int64')"
            ]
          },
          "metadata": {
            "tags": []
          },
          "execution_count": 43
        }
      ]
    },
    {
      "cell_type": "code",
      "metadata": {
        "id": "lFJurd4wvT81",
        "colab_type": "code",
        "colab": {
          "base_uri": "https://localhost:8080/",
          "height": 35
        },
        "outputId": "504abf73-1b74-4b42-f367-b5a5c9e850ae"
      },
      "source": [
        "x2_copy.shape"
      ],
      "execution_count": 44,
      "outputs": [
        {
          "output_type": "execute_result",
          "data": {
            "text/plain": [
              "(6,)"
            ]
          },
          "metadata": {
            "tags": []
          },
          "execution_count": 44
        }
      ]
    },
    {
      "cell_type": "code",
      "metadata": {
        "id": "dgfr6ngKvVGA",
        "colab_type": "code",
        "colab": {}
      },
      "source": [
        "x2_copy[2] = 100"
      ],
      "execution_count": 0,
      "outputs": []
    },
    {
      "cell_type": "code",
      "metadata": {
        "id": "QnldN24ovXCP",
        "colab_type": "code",
        "colab": {
          "base_uri": "https://localhost:8080/",
          "height": 35
        },
        "outputId": "7f3090c3-118d-4eac-ed9c-233c75a0a0b8"
      },
      "source": [
        "x2_copy"
      ],
      "execution_count": 47,
      "outputs": [
        {
          "output_type": "execute_result",
          "data": {
            "text/plain": [
              "array([  4,   3, 100,   4,   8,   4])"
            ]
          },
          "metadata": {
            "tags": []
          },
          "execution_count": 47
        }
      ]
    },
    {
      "cell_type": "code",
      "metadata": {
        "id": "gtNzjL9AvarW",
        "colab_type": "code",
        "colab": {}
      },
      "source": [
        ""
      ],
      "execution_count": 0,
      "outputs": []
    }
  ]
}