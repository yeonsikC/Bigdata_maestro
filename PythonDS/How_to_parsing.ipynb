{
 "cells": [
  {
   "cell_type": "code",
   "execution_count": 4,
   "metadata": {
    "scrolled": true
   },
   "outputs": [
    {
     "name": "stdout",
     "output_type": "stream",
     "text": [
      "<html><body><p>[b'\t\t\t\t\t\t\t\t</p><td><a href=\"info.php?id=Cre35.g759247.t1.1+\" target=\"_blank\">Cre35.g759247.t1.1 </a></td>']\n",
      "[b'\t\t\t\t\t\t\t\t<td><a href=\"info.php?id=Cre17.g739850.t1.2\" target=\"_blank\">Cre17.g739850.t1.2</a></td>']\n",
      "[b'\t\t\t\t\t\t\t\t<td><a href=\"info.php?id=Cre17.g737200.t1.2\" target=\"_blank\">Cre17.g737200.t1.2</a></td>']</body></html>\n",
      "<html>\n",
      " <body>\n",
      "  <p>\n",
      "   [b'\n",
      "  </p>\n",
      "  <td>\n",
      "   <a href=\"info.php?id=Cre35.g759247.t1.1+\" target=\"_blank\">\n",
      "    Cre35.g759247.t1.1\n",
      "   </a>\n",
      "  </td>\n",
      "  ']\n",
      "[b'\n",
      "  <td>\n",
      "   <a href=\"info.php?id=Cre17.g739850.t1.2\" target=\"_blank\">\n",
      "    Cre17.g739850.t1.2\n",
      "   </a>\n",
      "  </td>\n",
      "  ']\n",
      "[b'\n",
      "  <td>\n",
      "   <a href=\"info.php?id=Cre17.g737200.t1.2\" target=\"_blank\">\n",
      "    Cre17.g737200.t1.2\n",
      "   </a>\n",
      "  </td>\n",
      "  ']\n",
      " </body>\n",
      "</html>\n",
      "Cre35.g759247.t1.1 \n",
      "Cre17.g739850.t1.2\n",
      "Cre17.g737200.t1.2\n"
     ]
    }
   ],
   "source": [
    "from bs4 import BeautifulSoup\n",
    "html = '''[b'\\t\\t\\t\\t\\t\\t\\t\\t<td><a href=info.php?id=Cre35.g759247.t1.1+ target=\"_blank\">Cre35.g759247.t1.1 </a></td>']\n",
    "[b'\\t\\t\\t\\t\\t\\t\\t\\t<td><a href=info.php?id=Cre17.g739850.t1.2 target=\"_blank\">Cre17.g739850.t1.2</a></td>']\n",
    "[b'\\t\\t\\t\\t\\t\\t\\t\\t<td><a href=info.php?id=Cre17.g737200.t1.2 target=\"_blank\">Cre17.g737200.t1.2</a></td>']'''\n",
    "\n",
    "# BeautifulSoup -> parsing source of the HTML  .\n",
    "soup = BeautifulSoup(html) \n",
    "print(soup)\n",
    "\n",
    "# View HTML code.\n",
    "print(soup.prettify())\n",
    "\n",
    "# Get infomation\n",
    "site_names = soup.find_all('a')\n",
    "for site_name in site_names:\n",
    "    print(site_name.get_text())"
   ]
  },
  {
   "cell_type": "code",
   "execution_count": null,
   "metadata": {},
   "outputs": [],
   "source": []
  }
 ],
 "metadata": {
  "kernelspec": {
   "display_name": "Python 3",
   "language": "python",
   "name": "python3"
  },
  "language_info": {
   "codemirror_mode": {
    "name": "ipython",
    "version": 3
   },
   "file_extension": ".py",
   "mimetype": "text/x-python",
   "name": "python",
   "nbconvert_exporter": "python",
   "pygments_lexer": "ipython3",
   "version": "3.7.3"
  }
 },
 "nbformat": 4,
 "nbformat_minor": 2
}
