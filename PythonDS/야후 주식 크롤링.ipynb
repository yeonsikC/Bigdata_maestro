{
 "cells": [
  {
   "cell_type": "code",
   "execution_count": 3,
   "metadata": {},
   "outputs": [
    {
     "name": "stdout",
     "output_type": "stream",
     "text": [
      "Collecting pandas_datareader\n",
      "  Downloading https://files.pythonhosted.org/packages/d1/db/c6c72242179251ed9ead7af852296ae9558b1d0cfd972eef6c3398b131d1/pandas_datareader-0.7.4-py2.py3-none-any.whl (113kB)\n",
      "Requirement already satisfied: requests>=2.3.0 in c:\\python\\python37\\lib\\site-packages (from pandas_datareader) (2.22.0)\n",
      "Collecting lxml (from pandas_datareader)\n",
      "  Downloading https://files.pythonhosted.org/packages/bc/87/c3cecadcb5d7924cd71724b177343149cfc3609a89b197a991ac8593ed8c/lxml-4.4.1-cp37-cp37m-win_amd64.whl (3.7MB)\n",
      "Requirement already satisfied: wrapt in c:\\users\\mydus\\appdata\\roaming\\python\\python37\\site-packages (from pandas_datareader) (1.11.1)\n",
      "Requirement already satisfied: pandas>=0.19.2 in c:\\python\\python37\\lib\\site-packages (from pandas_datareader) (0.25.0)\n",
      "Requirement already satisfied: urllib3!=1.25.0,!=1.25.1,<1.26,>=1.21.1 in c:\\python\\python37\\lib\\site-packages (from requests>=2.3.0->pandas_datareader) (1.25.3)\n",
      "Requirement already satisfied: chardet<3.1.0,>=3.0.2 in c:\\python\\python37\\lib\\site-packages (from requests>=2.3.0->pandas_datareader) (3.0.4)\n",
      "Requirement already satisfied: certifi>=2017.4.17 in c:\\python\\python37\\lib\\site-packages (from requests>=2.3.0->pandas_datareader) (2019.6.16)\n",
      "Requirement already satisfied: idna<2.9,>=2.5 in c:\\python\\python37\\lib\\site-packages (from requests>=2.3.0->pandas_datareader) (2.8)\n",
      "Requirement already satisfied: pytz>=2017.2 in c:\\python\\python37\\lib\\site-packages (from pandas>=0.19.2->pandas_datareader) (2019.1)\n",
      "Requirement already satisfied: numpy>=1.13.3 in c:\\python\\python37\\lib\\site-packages (from pandas>=0.19.2->pandas_datareader) (1.16.4)\n",
      "Requirement already satisfied: python-dateutil>=2.6.1 in c:\\python\\python37\\lib\\site-packages (from pandas>=0.19.2->pandas_datareader) (2.8.0)\n",
      "Requirement already satisfied: six>=1.5 in c:\\users\\mydus\\appdata\\roaming\\python\\python37\\site-packages (from python-dateutil>=2.6.1->pandas>=0.19.2->pandas_datareader) (1.12.0)\n",
      "Installing collected packages: lxml, pandas-datareader\n",
      "Successfully installed lxml-4.4.1 pandas-datareader-0.7.4\n"
     ]
    },
    {
     "name": "stderr",
     "output_type": "stream",
     "text": [
      "WARNING: You are using pip version 19.2.1, however version 19.2.3 is available.\n",
      "You should consider upgrading via the 'python -m pip install --upgrade pip' command.\n"
     ]
    }
   ],
   "source": [
    "!pip install pandas_datareader"
   ]
  },
  {
   "cell_type": "code",
   "execution_count": 8,
   "metadata": {},
   "outputs": [],
   "source": [
    "from datetime import datetime\n",
    "import pandas_datareader.data as wb\n",
    " \n",
    "train_start = datetime(2010,11,1)\n",
    "train_end = datetime(2017,12,31)\n",
    " \n",
    "train_df = wb.DataReader('005930.KS', 'yahoo',train_start,train_end)\n",
    "\n",
    "test_start = datetime(2018,1,1)\n",
    "test_end = datetime(2018,12,31)\n",
    "\n",
    "test_df = wb.DataReader('005930.KS', 'yahoo',test_start,test_end)"
   ]
  },
  {
   "cell_type": "code",
   "execution_count": 9,
   "metadata": {},
   "outputs": [
    {
     "data": {
      "text/html": [
       "<div>\n",
       "<style scoped>\n",
       "    .dataframe tbody tr th:only-of-type {\n",
       "        vertical-align: middle;\n",
       "    }\n",
       "\n",
       "    .dataframe tbody tr th {\n",
       "        vertical-align: top;\n",
       "    }\n",
       "\n",
       "    .dataframe thead th {\n",
       "        text-align: right;\n",
       "    }\n",
       "</style>\n",
       "<table border=\"1\" class=\"dataframe\">\n",
       "  <thead>\n",
       "    <tr style=\"text-align: right;\">\n",
       "      <th></th>\n",
       "      <th>High</th>\n",
       "      <th>Low</th>\n",
       "      <th>Open</th>\n",
       "      <th>Close</th>\n",
       "      <th>Volume</th>\n",
       "      <th>Adj Close</th>\n",
       "    </tr>\n",
       "    <tr>\n",
       "      <th>Date</th>\n",
       "      <th></th>\n",
       "      <th></th>\n",
       "      <th></th>\n",
       "      <th></th>\n",
       "      <th></th>\n",
       "      <th></th>\n",
       "    </tr>\n",
       "  </thead>\n",
       "  <tbody>\n",
       "    <tr>\n",
       "      <th>2010-11-01</th>\n",
       "      <td>15060.0</td>\n",
       "      <td>14860.0</td>\n",
       "      <td>15060.0</td>\n",
       "      <td>14940.0</td>\n",
       "      <td>14837800.0</td>\n",
       "      <td>7.880681</td>\n",
       "    </tr>\n",
       "    <tr>\n",
       "      <th>2010-11-02</th>\n",
       "      <td>14960.0</td>\n",
       "      <td>14740.0</td>\n",
       "      <td>14940.0</td>\n",
       "      <td>14800.0</td>\n",
       "      <td>16536700.0</td>\n",
       "      <td>7.806831</td>\n",
       "    </tr>\n",
       "    <tr>\n",
       "      <th>2010-11-03</th>\n",
       "      <td>14980.0</td>\n",
       "      <td>14780.0</td>\n",
       "      <td>14800.0</td>\n",
       "      <td>14800.0</td>\n",
       "      <td>17874950.0</td>\n",
       "      <td>7.806831</td>\n",
       "    </tr>\n",
       "    <tr>\n",
       "      <th>2010-11-04</th>\n",
       "      <td>15280.0</td>\n",
       "      <td>14900.0</td>\n",
       "      <td>14940.0</td>\n",
       "      <td>15260.0</td>\n",
       "      <td>27312500.0</td>\n",
       "      <td>8.049478</td>\n",
       "    </tr>\n",
       "    <tr>\n",
       "      <th>2010-11-05</th>\n",
       "      <td>15800.0</td>\n",
       "      <td>15500.0</td>\n",
       "      <td>15600.0</td>\n",
       "      <td>15520.0</td>\n",
       "      <td>35165050.0</td>\n",
       "      <td>8.186624</td>\n",
       "    </tr>\n",
       "  </tbody>\n",
       "</table>\n",
       "</div>"
      ],
      "text/plain": [
       "               High      Low     Open    Close      Volume  Adj Close\n",
       "Date                                                                 \n",
       "2010-11-01  15060.0  14860.0  15060.0  14940.0  14837800.0   7.880681\n",
       "2010-11-02  14960.0  14740.0  14940.0  14800.0  16536700.0   7.806831\n",
       "2010-11-03  14980.0  14780.0  14800.0  14800.0  17874950.0   7.806831\n",
       "2010-11-04  15280.0  14900.0  14940.0  15260.0  27312500.0   8.049478\n",
       "2010-11-05  15800.0  15500.0  15600.0  15520.0  35165050.0   8.186624"
      ]
     },
     "execution_count": 9,
     "metadata": {},
     "output_type": "execute_result"
    }
   ],
   "source": [
    "train_df.head()"
   ]
  },
  {
   "cell_type": "code",
   "execution_count": null,
   "metadata": {},
   "outputs": [],
   "source": []
  }
 ],
 "metadata": {
  "kernelspec": {
   "display_name": "Python 3",
   "language": "python",
   "name": "python3"
  },
  "language_info": {
   "codemirror_mode": {
    "name": "ipython",
    "version": 3
   },
   "file_extension": ".py",
   "mimetype": "text/x-python",
   "name": "python",
   "nbconvert_exporter": "python",
   "pygments_lexer": "ipython3",
   "version": "3.7.3"
  }
 },
 "nbformat": 4,
 "nbformat_minor": 2
}
