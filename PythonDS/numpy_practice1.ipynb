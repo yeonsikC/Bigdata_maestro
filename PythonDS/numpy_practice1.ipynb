{
 "cells": [
  {
   "cell_type": "code",
   "execution_count": 0,
   "metadata": {
    "colab": {
     "base_uri": "https://localhost:8080/",
     "height": 128
    },
    "colab_type": "code",
    "id": "6rg43NVq9GHv",
    "outputId": "932dacdb-6ac1-4053-ddfe-844e7ea999b8"
   },
   "outputs": [
    {
     "name": "stdout",
     "output_type": "stream",
     "text": [
      "Go to this URL in a browser: https://accounts.google.com/o/oauth2/auth?client_id=947318989803-6bn6qk8qdgf4n4g3pfee6491hc0brc4i.apps.googleusercontent.com&redirect_uri=urn%3Aietf%3Awg%3Aoauth%3A2.0%3Aoob&scope=email%20https%3A%2F%2Fwww.googleapis.com%2Fauth%2Fdocs.test%20https%3A%2F%2Fwww.googleapis.com%2Fauth%2Fdrive%20https%3A%2F%2Fwww.googleapis.com%2Fauth%2Fdrive.photos.readonly%20https%3A%2F%2Fwww.googleapis.com%2Fauth%2Fpeopleapi.readonly&response_type=code\n",
      "\n",
      "Enter your authorization code:\n",
      "··········\n",
      "Mounted at /content/drive\n"
     ]
    }
   ],
   "source": [
    "from google.colab import drive\n",
    "drive.mount('/content/drive')"
   ]
  },
  {
   "cell_type": "code",
   "execution_count": 1,
   "metadata": {
    "colab": {},
    "colab_type": "code",
    "id": "eWz8f_Nd9IqC"
   },
   "outputs": [],
   "source": [
    "import numpy as np\n",
    "import csv"
   ]
  },
  {
   "cell_type": "markdown",
   "metadata": {
    "colab_type": "text",
    "id": "ZfBPfaD9BcFv"
   },
   "source": [
    "# 미국 대통령 키에 대한 분석"
   ]
  },
  {
   "cell_type": "code",
   "execution_count": 3,
   "metadata": {
    "colab": {},
    "colab_type": "code",
    "id": "hh9V24vj-Fe7"
   },
   "outputs": [],
   "source": [
    "dataset = []\n",
    "with open('president_heights.csv', 'r') as f:\n",
    "    reader = csv.reader(f)\n",
    "    for row in reader:\n",
    "      dataset.append(row)"
   ]
  },
  {
   "cell_type": "code",
   "execution_count": 4,
   "metadata": {
    "colab": {},
    "colab_type": "code",
    "id": "Y_rCm8dP-w7P"
   },
   "outputs": [],
   "source": [
    "df = np.array(dataset)"
   ]
  },
  {
   "cell_type": "code",
   "execution_count": 5,
   "metadata": {
    "colab": {},
    "colab_type": "code",
    "id": "aRgrCI5K_ctC"
   },
   "outputs": [],
   "source": [
    "height = np.array(df[1:,2], dtype=int)"
   ]
  },
  {
   "cell_type": "code",
   "execution_count": 6,
   "metadata": {
    "colab": {
     "base_uri": "https://localhost:8080/",
     "height": 90
    },
    "colab_type": "code",
    "id": "nnanIBu0ALU7",
    "outputId": "a1966af2-2a63-4c2c-9b9b-4b830cfbb2e7"
   },
   "outputs": [
    {
     "data": {
      "text/plain": [
       "array([189, 170, 189, 163, 183, 171, 185, 168, 173, 183, 173, 173, 175,\n",
       "       178, 183, 193, 178, 173, 174, 183, 183, 168, 170, 178, 182, 180,\n",
       "       183, 178, 182, 188, 175, 179, 183, 193, 182, 183, 177, 185, 188,\n",
       "       188, 182, 185])"
      ]
     },
     "execution_count": 6,
     "metadata": {},
     "output_type": "execute_result"
    }
   ],
   "source": [
    "height"
   ]
  },
  {
   "cell_type": "code",
   "execution_count": 7,
   "metadata": {
    "colab": {
     "base_uri": "https://localhost:8080/",
     "height": 90
    },
    "colab_type": "code",
    "id": "eMqQ2pbRAMTp",
    "outputId": "d6c5b49d-ec83-47cc-fe9a-9a07192335f8"
   },
   "outputs": [
    {
     "name": "stdout",
     "output_type": "stream",
     "text": [
      "역대 미국대통령 수는 : 42\n",
      "역대 미국대통령들의 키 중 최솟값은 : 163\n",
      "역대 미국대통령들의 키 중 최댓값은 : 193\n",
      "역대 미국대통령들의 키 중 평균은 : 179\n"
     ]
    }
   ],
   "source": [
    "print('역대 미국대통령 수는 : {}'.format(len(height)))\n",
    "print('역대 미국대통령들의 키 중 최솟값은 : {}'.format(np.min(height)))\n",
    "print('역대 미국대통령들의 키 중 최댓값은 : {}'.format(np.max(height)))\n",
    "print('역대 미국대통령들의 키 중 평균은 : {}'.format(int(np.mean(height))))"
   ]
  },
  {
   "cell_type": "markdown",
   "metadata": {
    "colab_type": "text",
    "id": "aWgcIoywD1QS"
   },
   "source": [
    "# 시애틀 강수 데이터"
   ]
  },
  {
   "cell_type": "code",
   "execution_count": 10,
   "metadata": {
    "colab": {},
    "colab_type": "code",
    "id": "gRk5HlqsBhLY"
   },
   "outputs": [],
   "source": [
    "dataset = []\n",
    "with open('Seattle2014.csv', 'r') as f:\n",
    "    reader = csv.reader(f)\n",
    "    for row in reader:\n",
    "      dataset.append(row)"
   ]
  },
  {
   "cell_type": "code",
   "execution_count": 11,
   "metadata": {
    "colab": {},
    "colab_type": "code",
    "id": "cM3H4xKBBoH0"
   },
   "outputs": [],
   "source": [
    "df = np.array(dataset)"
   ]
  },
  {
   "cell_type": "code",
   "execution_count": 12,
   "metadata": {
    "colab": {},
    "colab_type": "code",
    "id": "SupX09wFBrqe"
   },
   "outputs": [],
   "source": [
    "prcp = np.array(df[1:,3], dtype = int)"
   ]
  },
  {
   "cell_type": "code",
   "execution_count": 13,
   "metadata": {
    "colab": {
     "base_uri": "https://localhost:8080/",
     "height": 545
    },
    "colab_type": "code",
    "id": "xcEnH20rBspV",
    "outputId": "a5753712-b928-43cd-ccb0-8b6d84ff5dc6"
   },
   "outputs": [
    {
     "data": {
      "text/plain": [
       "array([  0,  41,  15,   0,   0,   3, 122,  97,  58,  43, 213,  15,   0,\n",
       "         0,   0,   0,   0,   0,   0,   0,   0,   5,   0,   0,   0,   0,\n",
       "         0,  89, 216,   0,  23,  20,   0,   0,   0,   0,   0,   0,  51,\n",
       "         5, 183, 170,  46,  18,  94, 117, 264, 145, 152,  10,  30,  28,\n",
       "        25,  61, 130,   3,   0,   0,   0,   5, 191, 107, 165, 467,  30,\n",
       "         0, 323,  43, 188,   0,   0,   5,  69,  81, 277,   3,   0,   5,\n",
       "         0,   0,   0,   0,   0,  41,  36,   3, 221, 140,   0,   0,   0,\n",
       "         0,  25,   0,  46,   0,   0,  46,   0,   0,   0,   0,   0,   0,\n",
       "         5, 109, 185,   0, 137,   0,  51, 142,  89, 124,   0,  33,  69,\n",
       "         0,   0,   0,   0,   0, 333, 160,  51,   0,   0, 137,  20,   5,\n",
       "         0,   0,   0,   0,   0,   0,   0,   0,   0,   0,   0,   0,  38,\n",
       "         0,  56,   0,   0,   0,   0,   0,   0,   0,   0,   0,   0,   0,\n",
       "         0,   0,   0,   0,   0,   0,  18,  64,   0,   5,  36,  13,   0,\n",
       "         8,   3,   0,   0,   0,   0,   0,   0,  18,  23,   0,   0,   0,\n",
       "         0,   0,   0,   0,   0,   0,   0,   0,   0,   0,   0,   0,   0,\n",
       "         0,   0,   0,   0,   0,   0,   0,   3, 193,   0,   0,   0,   0,\n",
       "         0,   0,   0,   0,   0,   5,   0,   0,   0,   0,   0,   0,   0,\n",
       "         0,   5, 127, 216,   0,  10,   0,   0,   0,   0,   0,   0,   0,\n",
       "         0,   0,   0,   0,   0,   0,   0,  84,  13,   0,  30,   0,   0,\n",
       "         0,   0,   0,   0,   0,   0,   0,   0,   0,   0,   0,   0,   5,\n",
       "         3,   0,   0,   0,   3, 183, 203,  43,  89,   0,   0,   8,   0,\n",
       "         0,   0,   0,   0,   0,   0,   0,   0,   0,   3,  74,   0,  76,\n",
       "        71,  86,   0,  33, 150,   0, 117,  10, 320,  94,  41,  61,  15,\n",
       "         8, 127,   5, 254, 170,   0,  18, 109,  41,  48,  41,   0,   0,\n",
       "        51,   0,   0,   0,   0,   0,   0,   0,   0,   0,   0,  36, 152,\n",
       "         5, 119,  13, 183,   3,  33, 343,  36,   0,   0,   0,   0,   8,\n",
       "        30,  74,   0,  91,  99, 130,  69,   0,   0,   0,   0,   0,  28,\n",
       "       130,  30, 196,   0,   0, 206,  53,   0,   0,  33,  41,   0,   0,\n",
       "         0])"
      ]
     },
     "execution_count": 13,
     "metadata": {},
     "output_type": "execute_result"
    }
   ],
   "source": [
    "prcp"
   ]
  },
  {
   "cell_type": "code",
   "execution_count": 14,
   "metadata": {
    "colab": {
     "base_uri": "https://localhost:8080/",
     "height": 108
    },
    "colab_type": "code",
    "id": "jV23BN0xCF2T",
    "outputId": "c869d3ad-a434-4dda-bb71-44fe6205b77b"
   },
   "outputs": [
    {
     "name": "stdout",
     "output_type": "stream",
     "text": [
      "Seattle의 2014년 누적 강수량은 : 12328\n",
      "Seattle의 2014년 일 최대 강수량은 : 467\n",
      "Seattle의 2014년 강수량 평균은 : 33\n",
      "Seattle의 2014년 강수량 분산은 : 4586\n",
      "Seattle의 2014년 강수량 표준편차는 : 67\n"
     ]
    }
   ],
   "source": [
    "print('Seattle의 2014년 누적 강수량은 : {}'.format(np.sum(prcp)))\n",
    "print('Seattle의 2014년 일 최대 강수량은 : {}'.format(np.max(prcp)))\n",
    "print('Seattle의 2014년 강수량 평균은 : {}'.format(int(np.mean(prcp))))\n",
    "print('Seattle의 2014년 강수량 분산은 : {}'.format(int(np.var(prcp))))\n",
    "print('Seattle의 2014년 강수량 표준편차는 : {}'.format(int(np.std(prcp))))"
   ]
  },
  {
   "cell_type": "code",
   "execution_count": 15,
   "metadata": {
    "colab": {},
    "colab_type": "code",
    "id": "VG4HehzHC1VK"
   },
   "outputs": [],
   "source": [
    "#비온 날만 따로 구분\n",
    "rain_prcp = prcp[prcp>0]"
   ]
  },
  {
   "cell_type": "code",
   "execution_count": 16,
   "metadata": {
    "colab": {
     "base_uri": "https://localhost:8080/",
     "height": 90
    },
    "colab_type": "code",
    "id": "fGqtJcD4DMOR",
    "outputId": "5e4571d0-face-42a5-b1c8-ed93f16a0734"
   },
   "outputs": [
    {
     "name": "stdout",
     "output_type": "stream",
     "text": [
      "Seattle의 2014년 강수 일은 : 82\n",
      "Seattle의 2014년 강수 일 중, 강수량 평균은 : 82\n",
      "Seattle의 2014년 강수 일 중, 강수량 분산은 : 7181\n",
      "Seattle의 2014년 강수 일 중, 강수량 표준편차는 : 84\n"
     ]
    }
   ],
   "source": [
    "print('Seattle의 2014년 강수 일은 : {}'.format(int(np.mean(rain_prcp))))\n",
    "print('Seattle의 2014년 강수 일 중, 강수량 평균은 : {}'.format(int(np.mean(rain_prcp))))\n",
    "print('Seattle의 2014년 강수 일 중, 강수량 분산은 : {}'.format(int(np.var(rain_prcp))))\n",
    "print('Seattle의 2014년 강수 일 중, 강수량 표준편차는 : {}'.format(int(np.std(rain_prcp))))"
   ]
  },
  {
   "cell_type": "markdown",
   "metadata": {
    "colab_type": "text",
    "id": "IBa2_aXzD8pa"
   },
   "source": [
    "# 한국 상권분석"
   ]
  },
  {
   "cell_type": "code",
   "execution_count": 34,
   "metadata": {
    "colab": {},
    "colab_type": "code",
    "id": "eb0TeUKeDxLC"
   },
   "outputs": [],
   "source": [
    "dataset = []\n",
    "with open('korea_floating_population_data.csv', 'r') as f:\n",
    "    reader = csv.reader(f)\n",
    "    for row in reader:\n",
    "      dataset.append(row)"
   ]
  },
  {
   "cell_type": "code",
   "execution_count": 35,
   "metadata": {
    "colab": {},
    "colab_type": "code",
    "id": "mjqoN9jKOGAQ"
   },
   "outputs": [],
   "source": [
    "df = np.array(dataset)"
   ]
  },
  {
   "cell_type": "code",
   "execution_count": 33,
   "metadata": {
    "colab": {
     "base_uri": "https://localhost:8080/",
     "height": 145
    },
    "colab_type": "code",
    "id": "4TzDY84bEMY9",
    "outputId": "dcdbfe97-05a8-4f1f-b792-f75a608da2ad"
   },
   "outputs": [
    {
     "data": {
      "text/plain": [
       "array([['조사번호', '조사지역', '주구분', ..., '여자30대', '여자40대', '여자50대'],\n",
       "       ['2544', '신촌네거리 계룡건설 사옥 농협 앞', '주중', ..., '64', '44', '26'],\n",
       "       ['2544', '신촌네거리 계룡건설 사옥 농협 앞', '주중', ..., '49', '43', '18'],\n",
       "       ...,\n",
       "       ['8644', '조암삼거리', '주중', ..., '37', '19', '45'],\n",
       "       ['8644', '조암삼거리', '주말', ..., '31', '25', '37'],\n",
       "       ['8644', '조암삼거리', '주말', ..., '29', '31', '43']], dtype='<U36')"
      ]
     },
     "execution_count": 33,
     "metadata": {},
     "output_type": "execute_result"
    }
   ],
   "source": [
    "df"
   ]
  },
  {
   "cell_type": "code",
   "execution_count": 20,
   "metadata": {
    "colab": {
     "base_uri": "https://localhost:8080/",
     "height": 181
    },
    "colab_type": "code",
    "id": "wPdj2n23Obuc",
    "outputId": "6b1328d2-a49c-48f0-e889-93d38f496128"
   },
   "outputs": [
    {
     "data": {
      "text/plain": [
       "array([['조사번호', '조사지역', '주구분', '조사일자', '시간대', 'X좌표', 'Y좌표', '행정구역명',\n",
       "        '날씨', '남자10대', '남자20대', '남자30대', '남자40대', '남자50대', '여자10대',\n",
       "        '여자20대', '여자30대', '여자40대', '여자50대'],\n",
       "       ['2544', '신촌네거리 계룡건설 사옥 농협 앞', '주중', '2010-06-21', '12시~13시까지',\n",
       "        '343099', '417482', '대전광역시 서구 월평동', '맑음', '2', '24', '68', '50',\n",
       "        '31', '4', '37', '64', '44', '26'],\n",
       "       ['2544', '신촌네거리 계룡건설 사옥 농협 앞', '주중', '2010-06-21', '19시~20시까지',\n",
       "        '343099', '417482', '대전광역시 서구 월평동', '맑음', '19', '44', '28', '33',\n",
       "        '21', '14', '56', '49', '43', '18']], dtype='<U36')"
      ]
     },
     "execution_count": 20,
     "metadata": {},
     "output_type": "execute_result"
    }
   ],
   "source": [
    "df[:3,]"
   ]
  },
  {
   "cell_type": "code",
   "execution_count": 21,
   "metadata": {
    "colab": {},
    "colab_type": "code",
    "id": "N33Ma0vNOhv4"
   },
   "outputs": [],
   "source": [
    "my = df[df[:,7] == \"대전광역시 서구 괴정동\"]"
   ]
  },
  {
   "cell_type": "code",
   "execution_count": 22,
   "metadata": {
    "colab": {},
    "colab_type": "code",
    "id": "peXcrxa1Qoct"
   },
   "outputs": [],
   "source": [
    "var_name = df[0,:]"
   ]
  },
  {
   "cell_type": "code",
   "execution_count": 23,
   "metadata": {
    "colab": {
     "base_uri": "https://localhost:8080/",
     "height": 72
    },
    "colab_type": "code",
    "id": "iM_E2zzNQrQt",
    "outputId": "a3e67421-30bd-43a6-a784-a0782f8e6cb0"
   },
   "outputs": [
    {
     "data": {
      "text/plain": [
       "array(['조사번호', '조사지역', '주구분', '조사일자', '시간대', 'X좌표', 'Y좌표', '행정구역명', '날씨',\n",
       "       '남자10대', '남자20대', '남자30대', '남자40대', '남자50대', '여자10대', '여자20대',\n",
       "       '여자30대', '여자40대', '여자50대'], dtype='<U36')"
      ]
     },
     "execution_count": 23,
     "metadata": {},
     "output_type": "execute_result"
    }
   ],
   "source": [
    "var_name"
   ]
  },
  {
   "cell_type": "code",
   "execution_count": 24,
   "metadata": {
    "colab": {
     "base_uri": "https://localhost:8080/",
     "height": 454
    },
    "colab_type": "code",
    "id": "BAwtyLlIPIPU",
    "outputId": "5dd56d06-a3d1-418f-9a07-d97681ea1058"
   },
   "outputs": [
    {
     "data": {
      "text/plain": [
       "array([['4102', 'B지역(SKY편의점 앞)', '주중', '2010-06-21', '12시~13시까지',\n",
       "        '344304', '415843', '대전광역시 서구 괴정동', '맑음', '0', '12', '24', '36',\n",
       "        '0', '6', '30', '16', '34', '4'],\n",
       "       ['4102', 'B지역(SKY편의점 앞)', '주중', '2010-06-21', '19시~20시까지',\n",
       "        '344304', '415843', '대전광역시 서구 괴정동', '맑음', '28', '16', '54', '44',\n",
       "        '0', '24', '12', '28', '34', '18'],\n",
       "       ['4102', 'B지역(SKY편의점 앞)', '주말', '2010-06-26', '12시~13시까지',\n",
       "        '344304', '415843', '대전광역시 서구 괴정동', '맑음', '60', '12', '8', '30',\n",
       "        '0', '8', '14', '10', '24', '12'],\n",
       "       ['4102', 'B지역(SKY편의점 앞)', '주말', '2010-06-26', '19시~20시까지',\n",
       "        '344304', '415843', '대전광역시 서구 괴정동', '맑음', '46', '12', '36', '42',\n",
       "        '0', '0', '20', '24', '40', '12'],\n",
       "       ['8481', 'B지역(SKY편의점 앞)', '주중', '2010-11-08', '12시~13시까지',\n",
       "        '344304', '415843', '대전광역시 서구 괴정동', '맑음', '12', '42', '27', '51',\n",
       "        '0', '0', '48', '12', '40', '2'],\n",
       "       ['8481', 'B지역(SKY편의점 앞)', '주중', '2010-11-08', '19시~20시까지',\n",
       "        '344304', '415843', '대전광역시 서구 괴정동', '맑음', '51', '66', '42', '51',\n",
       "        '0', '18', '42', '18', '38', '7'],\n",
       "       ['8481', 'B지역(SKY편의점 앞)', '주말', '2010-11-13', '12시~13시까지',\n",
       "        '344304', '415843', '대전광역시 서구 괴정동', '맑음', '63', '39', '39', '30',\n",
       "        '0', '33', '24', '24', '50', '7'],\n",
       "       ['8481', 'B지역(SKY편의점 앞)', '주말', '2010-11-13', '19시~20시까지',\n",
       "        '344304', '415843', '대전광역시 서구 괴정동', '맑음', '45', '36', '24', '42',\n",
       "        '0', '18', '12', '21', '30', '6']], dtype='<U36')"
      ]
     },
     "execution_count": 24,
     "metadata": {},
     "output_type": "execute_result"
    }
   ],
   "source": [
    "my"
   ]
  },
  {
   "cell_type": "code",
   "execution_count": 25,
   "metadata": {
    "colab": {
     "base_uri": "https://localhost:8080/",
     "height": 308
    },
    "colab_type": "code",
    "id": "q1byYtaeRmKE",
    "outputId": "ed96741c-e61a-4f0e-ac0d-47e49a278ec9"
   },
   "outputs": [
    {
     "data": {
      "text/plain": [
       "array([['4102', 'B지역(SKY편의점 앞)', '주중', '2010-06-21', '12시~13시까지',\n",
       "        '344304', '415843', '대전광역시 서구 괴정동', '맑음'],\n",
       "       ['4102', 'B지역(SKY편의점 앞)', '주중', '2010-06-21', '19시~20시까지',\n",
       "        '344304', '415843', '대전광역시 서구 괴정동', '맑음'],\n",
       "       ['4102', 'B지역(SKY편의점 앞)', '주말', '2010-06-26', '12시~13시까지',\n",
       "        '344304', '415843', '대전광역시 서구 괴정동', '맑음'],\n",
       "       ['4102', 'B지역(SKY편의점 앞)', '주말', '2010-06-26', '19시~20시까지',\n",
       "        '344304', '415843', '대전광역시 서구 괴정동', '맑음'],\n",
       "       ['8481', 'B지역(SKY편의점 앞)', '주중', '2010-11-08', '12시~13시까지',\n",
       "        '344304', '415843', '대전광역시 서구 괴정동', '맑음'],\n",
       "       ['8481', 'B지역(SKY편의점 앞)', '주중', '2010-11-08', '19시~20시까지',\n",
       "        '344304', '415843', '대전광역시 서구 괴정동', '맑음'],\n",
       "       ['8481', 'B지역(SKY편의점 앞)', '주말', '2010-11-13', '12시~13시까지',\n",
       "        '344304', '415843', '대전광역시 서구 괴정동', '맑음'],\n",
       "       ['8481', 'B지역(SKY편의점 앞)', '주말', '2010-11-13', '19시~20시까지',\n",
       "        '344304', '415843', '대전광역시 서구 괴정동', '맑음']], dtype='<U36')"
      ]
     },
     "execution_count": 25,
     "metadata": {},
     "output_type": "execute_result"
    }
   ],
   "source": [
    "my_str = np.array(my[:,:9], dtype=str)\n",
    "my_str"
   ]
  },
  {
   "cell_type": "code",
   "execution_count": 26,
   "metadata": {
    "colab": {
     "base_uri": "https://localhost:8080/",
     "height": 163
    },
    "colab_type": "code",
    "id": "iXxLItLMQia0",
    "outputId": "020e85ca-ab30-4020-fe3d-4f574a51993b"
   },
   "outputs": [
    {
     "data": {
      "text/plain": [
       "array([[ 0, 12, 24, 36,  0,  6, 30, 16, 34,  4],\n",
       "       [28, 16, 54, 44,  0, 24, 12, 28, 34, 18],\n",
       "       [60, 12,  8, 30,  0,  8, 14, 10, 24, 12],\n",
       "       [46, 12, 36, 42,  0,  0, 20, 24, 40, 12],\n",
       "       [12, 42, 27, 51,  0,  0, 48, 12, 40,  2],\n",
       "       [51, 66, 42, 51,  0, 18, 42, 18, 38,  7],\n",
       "       [63, 39, 39, 30,  0, 33, 24, 24, 50,  7],\n",
       "       [45, 36, 24, 42,  0, 18, 12, 21, 30,  6]])"
      ]
     },
     "execution_count": 26,
     "metadata": {},
     "output_type": "execute_result"
    }
   ],
   "source": [
    "my_value = np.array(my[:,9:], dtype=int)\n",
    "my_value"
   ]
  },
  {
   "cell_type": "code",
   "execution_count": 27,
   "metadata": {
    "colab": {
     "base_uri": "https://localhost:8080/",
     "height": 163
    },
    "colab_type": "code",
    "id": "GnH9yncTSVZv",
    "outputId": "6fd8cd3f-44fb-4bd2-e7bb-0e75cd7b36f6"
   },
   "outputs": [
    {
     "data": {
      "text/plain": [
       "array([[36],\n",
       "       [54],\n",
       "       [60],\n",
       "       [46],\n",
       "       [51],\n",
       "       [66],\n",
       "       [63],\n",
       "       [45]])"
      ]
     },
     "execution_count": 27,
     "metadata": {},
     "output_type": "execute_result"
    }
   ],
   "source": [
    "my_max = my_value.max(axis=1).reshape(len(my_value),1)\n",
    "my_max"
   ]
  },
  {
   "cell_type": "code",
   "execution_count": 28,
   "metadata": {
    "colab": {
     "base_uri": "https://localhost:8080/",
     "height": 35
    },
    "colab_type": "code",
    "id": "ECeaiUfmSno3",
    "outputId": "06bf550f-b1c6-41fa-8f10-37e9f9439ee0"
   },
   "outputs": [
    {
     "name": "stdout",
     "output_type": "stream",
     "text": [
      "['남자50대', '남자40대', '남자20대', '남자20대', '남자50대', '남자30대', '남자20대', '남자20대']\n"
     ]
    }
   ],
   "source": [
    "chk = 0\n",
    "gender_age = []\n",
    "for i in range(len(my_value)):\n",
    "  for j in range(len(my_value[0])):\n",
    "    if my_value[i, j]==my_max[i]:\n",
    "      chk = j\n",
    "      break;\n",
    "  gender_age.append(var_name[10+chk])\n",
    "print(gender_age)"
   ]
  },
  {
   "cell_type": "code",
   "execution_count": 29,
   "metadata": {
    "colab": {
     "base_uri": "https://localhost:8080/",
     "height": 217
    },
    "colab_type": "code",
    "id": "MoCeG81Ngt_A",
    "outputId": "cdf21b3a-ed16-4800-b67f-30876e7844d7"
   },
   "outputs": [
    {
     "name": "stdout",
     "output_type": "stream",
     "text": [
      "대전광역시 서구 괴정동의 특정 날짜의 요일, 날씨의 시간대에 따른 주 행인 분석결과\n",
      "================================================================================\n",
      "대전광역시 서구 괴정동 2010-06-21 주중 맑음 12시~13시까지 주 행인은 남자50대이다.\n",
      "대전광역시 서구 괴정동 2010-06-21 주중 맑음 19시~20시까지 주 행인은 남자40대이다.\n",
      "대전광역시 서구 괴정동 2010-06-26 주말 맑음 12시~13시까지 주 행인은 남자20대이다.\n",
      "대전광역시 서구 괴정동 2010-06-26 주말 맑음 19시~20시까지 주 행인은 남자20대이다.\n",
      "대전광역시 서구 괴정동 2010-11-08 주중 맑음 12시~13시까지 주 행인은 남자50대이다.\n",
      "대전광역시 서구 괴정동 2010-11-08 주중 맑음 19시~20시까지 주 행인은 남자30대이다.\n",
      "대전광역시 서구 괴정동 2010-11-13 주말 맑음 12시~13시까지 주 행인은 남자20대이다.\n",
      "대전광역시 서구 괴정동 2010-11-13 주말 맑음 19시~20시까지 주 행인은 남자20대이다.\n",
      "================================================================================\n"
     ]
    }
   ],
   "source": [
    "print('{0}의 특정 날짜의 요일, 날씨의 시간대에 따른 주 행인 분석결과'.format(my_str[0,7]))\n",
    "print(\"================================================================================\")\n",
    "for i in range(len(my_str)):\n",
    "  print(my_str[i,7], my_str[i,3], my_str[i,2], my_str[i,8], my_str[i,4], end = '')\n",
    "  print(' 주 행인은 {0}이다.'.format(gender_age[i]))\n",
    "print(\"================================================================================\")"
   ]
  },
  {
   "cell_type": "code",
   "execution_count": null,
   "metadata": {},
   "outputs": [],
   "source": []
  }
 ],
 "metadata": {
  "colab": {
   "collapsed_sections": [],
   "name": "numpy_practice1.ipynb",
   "provenance": [],
   "version": "0.3.2"
  },
  "kernelspec": {
   "display_name": "Python 3",
   "language": "python",
   "name": "python3"
  },
  "language_info": {
   "codemirror_mode": {
    "name": "ipython",
    "version": 3
   },
   "file_extension": ".py",
   "mimetype": "text/x-python",
   "name": "python",
   "nbconvert_exporter": "python",
   "pygments_lexer": "ipython3",
   "version": "3.7.3"
  }
 },
 "nbformat": 4,
 "nbformat_minor": 1
}
